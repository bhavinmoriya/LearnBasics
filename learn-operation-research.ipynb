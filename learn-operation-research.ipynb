{
 "cells": [
  {
   "cell_type": "code",
   "execution_count": 1,
   "id": "4388dcc6",
   "metadata": {
    "_cell_guid": "b1076dfc-b9ad-4769-8c92-a6c4dae69d19",
    "_uuid": "8f2839f25d086af736a60e9eeb907d3b93b6e0e5",
    "execution": {
     "iopub.execute_input": "2025-07-30T20:37:57.733114Z",
     "iopub.status.busy": "2025-07-30T20:37:57.732776Z",
     "iopub.status.idle": "2025-07-30T20:38:04.413821Z",
     "shell.execute_reply": "2025-07-30T20:38:04.412326Z"
    },
    "papermill": {
     "duration": 6.686164,
     "end_time": "2025-07-30T20:38:04.415563",
     "exception": false,
     "start_time": "2025-07-30T20:37:57.729399",
     "status": "completed"
    },
    "tags": []
   },
   "outputs": [
    {
     "name": "stdout",
     "output_type": "stream",
     "text": [
      "Collecting pulp\r\n",
      "  Downloading pulp-3.2.2-py3-none-any.whl.metadata (6.9 kB)\r\n",
      "Downloading pulp-3.2.2-py3-none-any.whl (16.4 MB)\r\n",
      "\u001b[2K   \u001b[90m━━━━━━━━━━━━━━━━━━━━━━━━━━━━━━━━━━━━━━━━\u001b[0m \u001b[32m16.4/16.4 MB\u001b[0m \u001b[31m79.3 MB/s\u001b[0m eta \u001b[36m0:00:00\u001b[0m\r\n",
      "\u001b[?25hInstalling collected packages: pulp\r\n",
      "Successfully installed pulp-3.2.2\r\n",
      "Welcome to the CBC MILP Solver \n",
      "Version: 2.10.3 \n",
      "Build Date: Dec 15 2019 \n",
      "\n",
      "command line - /usr/local/lib/python3.11/dist-packages/pulp/apis/../solverdir/cbc/linux/i64/cbc /tmp/19ecff9b29d44910a0b4aaf2aba8615a-pulp.mps -max -timeMode elapsed -branch -printingOptions all -solution /tmp/19ecff9b29d44910a0b4aaf2aba8615a-pulp.sol (default strategy 1)\n",
      "At line 2 NAME          MODEL\n",
      "At line 3 ROWS\n",
      "At line 7 COLUMNS\n",
      "At line 14 RHS\n",
      "At line 17 BOUNDS\n",
      "At line 18 ENDATA\n",
      "Problem MODEL has 2 rows, 2 columns and 4 elements\n",
      "Coin0008I MODEL read with 0 errors\n",
      "Option for timeMode changed from cpu to elapsed\n",
      "Presolve 2 (0) rows, 2 (0) columns and 4 (0) elements\n",
      "0  Obj -0 Dual inf 7.9999998 (2)\n",
      "0  Obj -0 Dual inf 7.9999998 (2)\n",
      "2  Obj 135\n",
      "Optimal - objective value 135\n",
      "Optimal objective 135 - 2 iterations time 0.002\n",
      "Option for printingOptions changed from normal to all\n",
      "Total time (CPU seconds):       0.00   (Wallclock seconds):       0.00\n",
      "\n",
      "Status: Optimal\n",
      "Optimal value of x: 20.0\n",
      "Optimal value of y: 15.0\n",
      "Optimal objective value: 135.0\n"
     ]
    }
   ],
   "source": [
    "!pip install pulp\n",
    "\n",
    "from pulp import LpMaximize, LpProblem, LpStatus, lpSum, LpVariable\n",
    "\n",
    "# Create a LP maximization problem\n",
    "prob = LpProblem(\"simple_problem\", LpMaximize)\n",
    "\n",
    "# Define the variables\n",
    "x = LpVariable(\"x\", lowBound=0)\n",
    "y = LpVariable(\"y\", lowBound=0)\n",
    "\n",
    "# Objective function\n",
    "prob += 3 * x + 5 * y, \"Objective\"\n",
    "\n",
    "# Constraints\n",
    "prob += 2 * x + 4 * y <= 100, \"Constraint1\"\n",
    "prob += 3 * x + 2 * y <= 90, \"Constraint2\"\n",
    "\n",
    "# Solve the problem\n",
    "status = prob.solve()\n",
    "\n",
    "# Print the results\n",
    "print(f\"Status: {LpStatus[status]}\")\n",
    "print(f\"Optimal value of x: {x.varValue}\")\n",
    "print(f\"Optimal value of y: {y.varValue}\")\n",
    "print(f\"Optimal objective value: {prob.objective.value()}\")\n"
   ]
  },
  {
   "cell_type": "code",
   "execution_count": null,
   "id": "a3b5656d",
   "metadata": {
    "papermill": {
     "duration": 0.001767,
     "end_time": "2025-07-30T20:38:04.420337",
     "exception": false,
     "start_time": "2025-07-30T20:38:04.418570",
     "status": "completed"
    },
    "tags": []
   },
   "outputs": [],
   "source": []
  }
 ],
 "metadata": {
  "kaggle": {
   "accelerator": "none",
   "dataSources": [],
   "dockerImageVersionId": 31089,
   "isGpuEnabled": false,
   "isInternetEnabled": true,
   "language": "python",
   "sourceType": "notebook"
  },
  "kernelspec": {
   "display_name": "Python 3",
   "language": "python",
   "name": "python3"
  },
  "language_info": {
   "codemirror_mode": {
    "name": "ipython",
    "version": 3
   },
   "file_extension": ".py",
   "mimetype": "text/x-python",
   "name": "python",
   "nbconvert_exporter": "python",
   "pygments_lexer": "ipython3",
   "version": "3.11.13"
  },
  "papermill": {
   "default_parameters": {},
   "duration": 13.36312,
   "end_time": "2025-07-30T20:38:04.942764",
   "environment_variables": {},
   "exception": null,
   "input_path": "__notebook__.ipynb",
   "output_path": "__notebook__.ipynb",
   "parameters": {},
   "start_time": "2025-07-30T20:37:51.579644",
   "version": "2.6.0"
  }
 },
 "nbformat": 4,
 "nbformat_minor": 5
}
